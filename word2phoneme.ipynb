{
 "cells": [
  {
   "cell_type": "code",
   "execution_count": 97,
   "id": "0222e89b-ffcc-4afe-b352-ecd474489562",
   "metadata": {},
   "outputs": [],
   "source": [
    "from sklearn.preprocessing import LabelEncoder\n",
    "from keras.preprocessing.sequence import pad_sequences\n",
    "import pandas as pd\n",
    "import numpy as np\n",
    "import re\n",
    "from keras.models import Sequential\n",
    "from tensorflow.keras.layers import Embedding, Bidirectional, LSTM, TimeDistributed, Dense, Activation, Dropout\n",
    "from keras.layers import Masking\n",
    "from tensorflow.keras.optimizers import Adam\n",
    "from tensorflow.keras.regularizers import l2\n",
    "import tensorflow as tf"
   ]
  },
  {
   "cell_type": "code",
   "execution_count": 98,
   "id": "eb867b58-0b17-4f4c-9d06-7fa0112ab24f",
   "metadata": {},
   "outputs": [],
   "source": [
    "# Datei lesen\n",
    "file_path = './cmudict.txt'\n",
    "\n",
    "# Listen für Wörter und Phoneme\n",
    "words = []\n",
    "phonemes = []\n",
    "\n",
    "with open(file_path, 'r') as file:\n",
    "    for line in file:\n",
    "        # Trennen des Wortes und der Phoneme beim ersten Leerzeichen\n",
    "        word, phoneme_string = line.strip().split(' ', 1)\n",
    "        word = re.sub(r'\\(.*?\\)', '', word)\n",
    "        words.append(word)\n",
    "        phonemes.append(phoneme_string[1:])\n",
    "\n",
    " "
   ]
  },
  {
   "cell_type": "code",
   "execution_count": 99,
   "id": "cfdaf28b-aec4-446b-b0e9-b4ae62e35d87",
   "metadata": {},
   "outputs": [],
   "source": [
    "# Tokenisierung der Wörter und Phoneme\n",
    "word_encoder = LabelEncoder()\n",
    "phoneme_encoder = LabelEncoder()"
   ]
  },
  {
   "cell_type": "code",
   "execution_count": 100,
   "id": "645962c3-3c42-4a09-9575-f5974f259734",
   "metadata": {},
   "outputs": [],
   "source": [
    "all_chars = list(set(''.join(words)))\n",
    "all_phonemes = list(set(' '.join(phonemes).split()))"
   ]
  },
  {
   "cell_type": "code",
   "execution_count": 101,
   "id": "1ccc7f4f-8c84-4624-bbe5-13e47a908f52",
   "metadata": {},
   "outputs": [],
   "source": [
    "word_encoder.fit(all_chars)\n",
    "phoneme_encoder.fit(all_phonemes)\n",
    "\n",
    "encoded_words = [word_encoder.transform(list(word)) for word in words]\n",
    "encoded_phonemes = [phoneme_encoder.transform(phoneme.split()) for phoneme in phonemes]"
   ]
  },
  {
   "cell_type": "code",
   "execution_count": 102,
   "id": "6191573b-da5d-4ad8-8d64-4151dca16ff8",
   "metadata": {},
   "outputs": [],
   "source": [
    "# Anzahl der verschiedenen Zeichen und Phoneme\n",
    "num_chars = len(word_encoder.classes_)\n",
    "num_phonemes = len(phoneme_encoder.classes_)"
   ]
  },
  {
   "cell_type": "code",
   "execution_count": 103,
   "id": "cf027ea7-8c73-4505-940b-58c3445b3161",
   "metadata": {},
   "outputs": [],
   "source": [
    "# Padding der Sequenzen\n",
    "max_word_length = max(len(word) for word in encoded_words)\n",
    "max_phoneme_length = max(len(phoneme) for phoneme in encoded_phonemes)"
   ]
  },
  {
   "cell_type": "code",
   "execution_count": 104,
   "id": "3e11bee1-b9eb-42df-a275-a4415ee2b002",
   "metadata": {},
   "outputs": [],
   "source": [
    "# Padding der Sequenzen\n",
    "max_length = max(max_word_length, max_phoneme_length)\n"
   ]
  },
  {
   "cell_type": "code",
   "execution_count": 105,
   "id": "def72815-7f91-4af3-9edf-f05050c3307c",
   "metadata": {},
   "outputs": [],
   "source": [
    "# Woerter mit Padding versehen\n",
    "padded_words = pad_sequences(encoded_words, maxlen=max_length, padding='post')\n",
    "padded_phonemes = pad_sequences(encoded_phonemes, maxlen=max_length, padding='post')"
   ]
  },
  {
   "cell_type": "code",
   "execution_count": 110,
   "id": "4a787c23-0c2c-4523-95f6-1c200aba5fa2",
   "metadata": {},
   "outputs": [
    {
     "data": {
      "text/html": [
       "<pre style=\"white-space:pre;overflow-x:auto;line-height:normal;font-family:Menlo,'DejaVu Sans Mono',consolas,'Courier New',monospace\"><span style=\"font-weight: bold\">Model: \"sequential_10\"</span>\n",
       "</pre>\n"
      ],
      "text/plain": [
       "\u001b[1mModel: \"sequential_10\"\u001b[0m\n"
      ]
     },
     "metadata": {},
     "output_type": "display_data"
    },
    {
     "data": {
      "text/html": [
       "<pre style=\"white-space:pre;overflow-x:auto;line-height:normal;font-family:Menlo,'DejaVu Sans Mono',consolas,'Courier New',monospace\">┏━━━━━━━━━━━━━━━━━━━━━━━━━━━━━━━━━━━━━━┳━━━━━━━━━━━━━━━━━━━━━━━━━━━━━┳━━━━━━━━━━━━━━━━━┓\n",
       "┃<span style=\"font-weight: bold\"> Layer (type)                         </span>┃<span style=\"font-weight: bold\"> Output Shape                </span>┃<span style=\"font-weight: bold\">         Param # </span>┃\n",
       "┡━━━━━━━━━━━━━━━━━━━━━━━━━━━━━━━━━━━━━━╇━━━━━━━━━━━━━━━━━━━━━━━━━━━━━╇━━━━━━━━━━━━━━━━━┩\n",
       "│ embedding_19 (<span style=\"color: #0087ff; text-decoration-color: #0087ff\">Embedding</span>)             │ ?                           │     <span style=\"color: #00af00; text-decoration-color: #00af00\">0</span> (unbuilt) │\n",
       "├──────────────────────────────────────┼─────────────────────────────┼─────────────────┤\n",
       "│ bidirectional_21 (<span style=\"color: #0087ff; text-decoration-color: #0087ff\">Bidirectional</span>)     │ ?                           │     <span style=\"color: #00af00; text-decoration-color: #00af00\">0</span> (unbuilt) │\n",
       "├──────────────────────────────────────┼─────────────────────────────┼─────────────────┤\n",
       "│ bidirectional_22 (<span style=\"color: #0087ff; text-decoration-color: #0087ff\">Bidirectional</span>)     │ ?                           │     <span style=\"color: #00af00; text-decoration-color: #00af00\">0</span> (unbuilt) │\n",
       "├──────────────────────────────────────┼─────────────────────────────┼─────────────────┤\n",
       "│ time_distributed_14                  │ ?                           │     <span style=\"color: #00af00; text-decoration-color: #00af00\">0</span> (unbuilt) │\n",
       "│ (<span style=\"color: #0087ff; text-decoration-color: #0087ff\">TimeDistributed</span>)                    │                             │                 │\n",
       "├──────────────────────────────────────┼─────────────────────────────┼─────────────────┤\n",
       "│ time_distributed_15                  │ ?                           │     <span style=\"color: #00af00; text-decoration-color: #00af00\">0</span> (unbuilt) │\n",
       "│ (<span style=\"color: #0087ff; text-decoration-color: #0087ff\">TimeDistributed</span>)                    │                             │                 │\n",
       "├──────────────────────────────────────┼─────────────────────────────┼─────────────────┤\n",
       "│ activation_8 (<span style=\"color: #0087ff; text-decoration-color: #0087ff\">Activation</span>)            │ ?                           │     <span style=\"color: #00af00; text-decoration-color: #00af00\">0</span> (unbuilt) │\n",
       "└──────────────────────────────────────┴─────────────────────────────┴─────────────────┘\n",
       "</pre>\n"
      ],
      "text/plain": [
       "┏━━━━━━━━━━━━━━━━━━━━━━━━━━━━━━━━━━━━━━┳━━━━━━━━━━━━━━━━━━━━━━━━━━━━━┳━━━━━━━━━━━━━━━━━┓\n",
       "┃\u001b[1m \u001b[0m\u001b[1mLayer (type)                        \u001b[0m\u001b[1m \u001b[0m┃\u001b[1m \u001b[0m\u001b[1mOutput Shape               \u001b[0m\u001b[1m \u001b[0m┃\u001b[1m \u001b[0m\u001b[1m        Param #\u001b[0m\u001b[1m \u001b[0m┃\n",
       "┡━━━━━━━━━━━━━━━━━━━━━━━━━━━━━━━━━━━━━━╇━━━━━━━━━━━━━━━━━━━━━━━━━━━━━╇━━━━━━━━━━━━━━━━━┩\n",
       "│ embedding_19 (\u001b[38;5;33mEmbedding\u001b[0m)             │ ?                           │     \u001b[38;5;34m0\u001b[0m (unbuilt) │\n",
       "├──────────────────────────────────────┼─────────────────────────────┼─────────────────┤\n",
       "│ bidirectional_21 (\u001b[38;5;33mBidirectional\u001b[0m)     │ ?                           │     \u001b[38;5;34m0\u001b[0m (unbuilt) │\n",
       "├──────────────────────────────────────┼─────────────────────────────┼─────────────────┤\n",
       "│ bidirectional_22 (\u001b[38;5;33mBidirectional\u001b[0m)     │ ?                           │     \u001b[38;5;34m0\u001b[0m (unbuilt) │\n",
       "├──────────────────────────────────────┼─────────────────────────────┼─────────────────┤\n",
       "│ time_distributed_14                  │ ?                           │     \u001b[38;5;34m0\u001b[0m (unbuilt) │\n",
       "│ (\u001b[38;5;33mTimeDistributed\u001b[0m)                    │                             │                 │\n",
       "├──────────────────────────────────────┼─────────────────────────────┼─────────────────┤\n",
       "│ time_distributed_15                  │ ?                           │     \u001b[38;5;34m0\u001b[0m (unbuilt) │\n",
       "│ (\u001b[38;5;33mTimeDistributed\u001b[0m)                    │                             │                 │\n",
       "├──────────────────────────────────────┼─────────────────────────────┼─────────────────┤\n",
       "│ activation_8 (\u001b[38;5;33mActivation\u001b[0m)            │ ?                           │     \u001b[38;5;34m0\u001b[0m (unbuilt) │\n",
       "└──────────────────────────────────────┴─────────────────────────────┴─────────────────┘\n"
      ]
     },
     "metadata": {},
     "output_type": "display_data"
    },
    {
     "data": {
      "text/html": [
       "<pre style=\"white-space:pre;overflow-x:auto;line-height:normal;font-family:Menlo,'DejaVu Sans Mono',consolas,'Courier New',monospace\"><span style=\"font-weight: bold\"> Total params: </span><span style=\"color: #00af00; text-decoration-color: #00af00\">0</span> (0.00 B)\n",
       "</pre>\n"
      ],
      "text/plain": [
       "\u001b[1m Total params: \u001b[0m\u001b[38;5;34m0\u001b[0m (0.00 B)\n"
      ]
     },
     "metadata": {},
     "output_type": "display_data"
    },
    {
     "data": {
      "text/html": [
       "<pre style=\"white-space:pre;overflow-x:auto;line-height:normal;font-family:Menlo,'DejaVu Sans Mono',consolas,'Courier New',monospace\"><span style=\"font-weight: bold\"> Trainable params: </span><span style=\"color: #00af00; text-decoration-color: #00af00\">0</span> (0.00 B)\n",
       "</pre>\n"
      ],
      "text/plain": [
       "\u001b[1m Trainable params: \u001b[0m\u001b[38;5;34m0\u001b[0m (0.00 B)\n"
      ]
     },
     "metadata": {},
     "output_type": "display_data"
    },
    {
     "data": {
      "text/html": [
       "<pre style=\"white-space:pre;overflow-x:auto;line-height:normal;font-family:Menlo,'DejaVu Sans Mono',consolas,'Courier New',monospace\"><span style=\"font-weight: bold\"> Non-trainable params: </span><span style=\"color: #00af00; text-decoration-color: #00af00\">0</span> (0.00 B)\n",
       "</pre>\n"
      ],
      "text/plain": [
       "\u001b[1m Non-trainable params: \u001b[0m\u001b[38;5;34m0\u001b[0m (0.00 B)\n"
      ]
     },
     "metadata": {},
     "output_type": "display_data"
    }
   ],
   "source": [
    "# Modellaufbau\n",
    "def create_model():\n",
    "    model = Sequential()\n",
    "    model.add(Embedding(input_dim=len(word_encoder.classes_), output_dim=64))\n",
    "    # Erste LSTM-Schicht mit Dropout\n",
    "    model.add(Bidirectional(LSTM(256, return_sequences=True, dropout=0.2, recurrent_dropout=0.2)))\n",
    "    \n",
    "    # Zweite LSTM-Schicht mit Dropout\n",
    "    model.add(Bidirectional(LSTM(256, return_sequences=True, dropout=0.2, recurrent_dropout=0.2)))\n",
    "    \n",
    "    # Dense-Schicht mit L2-Regularisierung\n",
    "    model.add(TimeDistributed(Dense(128, activation='relu', kernel_regularizer=l2(0.01))))\n",
    "    \n",
    " \n",
    "    # Ausgabe-Schicht\n",
    "    model.add(TimeDistributed(Dense(len(phoneme_encoder.classes_))))\n",
    "    model.add(Activation('softmax'))\n",
    "    \n",
    "    # Kompilierung des Modells mit angepasstem Optimizer\n",
    "    optimizer = Adam(learning_rate=0.001)\n",
    "    model.compile(loss='sparse_categorical_crossentropy', optimizer=optimizer, metrics=[masked_accuracy])\n",
    "    \n",
    "    return model\n",
    "\n",
    "model = create_model()\n",
    "\n",
    "# Modellzusammenfassung\n",
    "model.summary()"
   ]
  },
  {
   "cell_type": "code",
   "execution_count": 106,
   "id": "5d2704c8-810a-41e2-82b5-41ed0af6c3da",
   "metadata": {},
   "outputs": [],
   "source": [
    "# Umwandeln der Labels für das Training aka verschachteln der werte in einzelne arrays\n",
    "y = np.expand_dims(padded_phonemes, -1)"
   ]
  },
  {
   "cell_type": "code",
   "execution_count": 45,
   "id": "e8e44e93-8f6d-43a9-9bb2-e57cdf77718d",
   "metadata": {},
   "outputs": [],
   "source": [
    "import tensorflow as tf\n",
    "# Eager Execution aktivieren\n",
    "tf.config.run_functions_eagerly(False)\n"
   ]
  },
  {
   "cell_type": "code",
   "execution_count": 107,
   "id": "96ce1fe5-c6cd-480a-becf-bc89e0bacdc5",
   "metadata": {},
   "outputs": [],
   "source": [
    "def masked_accuracy(y_true, y_pred):\n",
    "   # Konvertiere Vorhersagen in Klassen\n",
    "    y_pred_class = tf.argmax(y_pred, axis=-1)\n",
    "    \n",
    "    # Entferne die letzte Dimension von y_true\n",
    "    y_true = tf.squeeze(y_true, -1)\n",
    "    \n",
    "    # Maskiere die gepolsterten Werte (Annahmen: 0 ist der gepolsterte Wert)\n",
    "    mask = tf.cast(tf.not_equal(y_true, 0), dtype=tf.float32)\n",
    "    \n",
    "    # Korrekte Vorhersagen\n",
    "    matches = tf.cast(tf.equal(y_true, tf.cast(y_pred_class, y_true.dtype)), dtype=tf.float32)\n",
    "    \n",
    "    # Anzahl der korrekten Vorhersagen (ohne Padding)\n",
    "    masked_matches = tf.reduce_sum(matches * mask)\n",
    "    \n",
    "    # Anzahl der gültigen Datenpunkte (ohne Padding)\n",
    "    masked_count = tf.reduce_sum(mask)\n",
    "    \n",
    "    # Berechnung der Genauigkeit\n",
    "    return masked_matches / masked_count"
   ]
  },
  {
   "cell_type": "code",
   "execution_count": null,
   "id": "7b456d8d-68a0-4393-87e5-542646f4ca37",
   "metadata": {},
   "outputs": [],
   "source": []
  },
  {
   "cell_type": "code",
   "execution_count": null,
   "id": "43fda5d4-e452-4603-8017-8c6f22e69d88",
   "metadata": {},
   "outputs": [
    {
     "name": "stdout",
     "output_type": "stream",
     "text": [
      "Epoch 1/5\n",
      "\u001b[1m 342/3358\u001b[0m \u001b[32m━━\u001b[0m\u001b[37m━━━━━━━━━━━━━━━━━━\u001b[0m \u001b[1m6:01\u001b[0m 120ms/step - loss: 1.6510 - masked_accuracy: 0.0457"
     ]
    }
   ],
   "source": [
    "model.fit(padded_words, y, epochs=5, batch_size=32, validation_split=0.2)\n",
    "\n"
   ]
  },
  {
   "cell_type": "code",
   "execution_count": 30,
   "id": "43c65363-ba78-40f3-bc1a-1c845da43757",
   "metadata": {},
   "outputs": [],
   "source": [
    "# Modell speichern\n",
    "model.save('word_to_phoneme_model_good.keras')\n",
    "\n"
   ]
  },
  {
   "cell_type": "code",
   "execution_count": 19,
   "id": "6557d478-2562-4673-a80c-ffabe7f8cd3d",
   "metadata": {},
   "outputs": [],
   "source": [
    "def predict_phonemes(word):\n",
    "    word = re.sub(r'\\(.*?\\)', '', word)\n",
    "    encoded_word = word_encoder.transform(list(word))\n",
    "    padded_word = pad_sequences([encoded_word], max_length, padding=\"post\")\n",
    "    prediction = model.predict(padded_word)\n",
    "    predicted_phonemes = np.argmax(prediction, axis=-1)\n",
    "    return phoneme_encoder.inverse_transform(predicted_phonemes[0])"
   ]
  },
  {
   "cell_type": "code",
   "execution_count": 31,
   "id": "d43c6029-d3b0-4ecc-9915-f06e3179de99",
   "metadata": {},
   "outputs": [
    {
     "name": "stdout",
     "output_type": "stream",
     "text": [
      "\u001b[1m1/1\u001b[0m \u001b[32m━━━━━━━━━━━━━━━━━━━━\u001b[0m\u001b[37m\u001b[0m \u001b[1m0s\u001b[0m 31ms/step\n",
      "SH AO1 R T AA0 AA0 AA0 AA0 AA0 AA0 AA0 AA0 AA0 AA0 AA0 AA0 AA0 AA0 AA0 AA0 AA0 AA0 AA0 AA0 AA0 AA0 AA0 AA0 AA0 AA0 AA0 AA0 AA0 AA0\n"
     ]
    }
   ],
   "source": [
    "new_word = \"SHORT\"\n",
    "predicted_phonemes = predict_phonemes(new_word)\n",
    "print(\" \".join(predicted_phonemes))"
   ]
  },
  {
   "cell_type": "code",
   "execution_count": 31,
   "id": "7464c2a8-1c11-498d-bd18-ee3300aa0cc4",
   "metadata": {},
   "outputs": [],
   "source": [
    "model = tf.keras.models.load_model(\"word_to_phoneme_model_masking.keras\")"
   ]
  },
  {
   "cell_type": "code",
   "execution_count": null,
   "id": "149ea619-1816-46d8-ba9d-3836bdc0c06a",
   "metadata": {},
   "outputs": [],
   "source": []
  }
 ],
 "metadata": {
  "kernelspec": {
   "display_name": "Python 3 (ipykernel)",
   "language": "python",
   "name": "python3"
  },
  "language_info": {
   "codemirror_mode": {
    "name": "ipython",
    "version": 3
   },
   "file_extension": ".py",
   "mimetype": "text/x-python",
   "name": "python",
   "nbconvert_exporter": "python",
   "pygments_lexer": "ipython3",
   "version": "3.10.6"
  }
 },
 "nbformat": 4,
 "nbformat_minor": 5
}
